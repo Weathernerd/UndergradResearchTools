{
 "cells": [
  {
   "cell_type": "code",
   "execution_count": 2,
   "id": "207f9c4f",
   "metadata": {},
   "outputs": [
    {
     "name": "stdout",
     "output_type": "stream",
     "text": [
      "netCDF4 is not installed\n"
     ]
    },
    {
     "data": {
      "application/vnd.jupyter.widget-view+json": {
       "model_id": "bc8bd940743d499d81194e4aee364199",
       "version_major": 2,
       "version_minor": 0
      },
      "text/plain": [
       "VBox(children=(HTML(value='<h3>ipython_IDV Control Panel</h3>'), HBox(children=(HTML(value='<b>Resources:</b>'…"
      ]
     },
     "metadata": {},
     "output_type": "display_data"
    }
   ],
   "source": [
    "reload_ext ipyidv"
   ]
  },
  {
   "cell_type": "code",
   "execution_count": 4,
   "id": "d717050b",
   "metadata": {
    "scrolled": true
   },
   "outputs": [],
   "source": [
    "%make_image -capture legend -caption \"Wow\" "
   ]
  },
  {
   "cell_type": "code",
   "execution_count": null,
   "id": "996b13b9",
   "metadata": {},
   "outputs": [],
   "source": [
    "%make_movie -capture legend -caption \"Wow movie\" "
   ]
  }
 ],
 "metadata": {
  "kernelspec": {
   "display_name": "Python 3",
   "language": "python",
   "name": "python3"
  },
  "language_info": {
   "codemirror_mode": {
    "name": "ipython",
    "version": 3
   },
   "file_extension": ".py",
   "mimetype": "text/x-python",
   "name": "python",
   "nbconvert_exporter": "python",
   "pygments_lexer": "ipython3",
   "version": "3.6.10"
  }
 },
 "nbformat": 4,
 "nbformat_minor": 5
}
