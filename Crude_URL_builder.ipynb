{
 "cells": [
  {
   "cell_type": "code",
   "execution_count": null,
   "metadata": {},
   "outputs": [],
   "source": [
    "http://carob.rsmas.miami.edu/data/cameras/hourly_images/camera1/2020/july/20/camera1-2020.07.20-120000.jpg\n",
    "http://carob.rsmas.miami.edu/data/cameras/hourly_images/camera1/2020/july/20/camera1-2020.07.20-120000.jpg"
   ]
  },
  {
   "cell_type": "code",
   "execution_count": null,
   "metadata": {},
   "outputs": [],
   "source": []
  },
  {
   "cell_type": "code",
   "execution_count": 1,
   "metadata": {},
   "outputs": [],
   "source": [
    "stub = 'http://carob.rsmas.miami.edu/data/cameras/hourly_images/camera1/2020/july/'"
   ]
  },
  {
   "cell_type": "code",
   "execution_count": 9,
   "metadata": {},
   "outputs": [],
   "source": [
    "stub2 = '/camera1-2020.07.'"
   ]
  },
  {
   "cell_type": "code",
   "execution_count": 10,
   "metadata": {},
   "outputs": [],
   "source": [
    "suffix = '-120000.jpg'"
   ]
  },
  {
   "cell_type": "code",
   "execution_count": 11,
   "metadata": {},
   "outputs": [
    {
     "name": "stdout",
     "output_type": "stream",
     "text": [
      "http://carob.rsmas.miami.edu/data/cameras/hourly_images/camera1/2020/july/0/camera1-2020.07.0-120000.jpg\n",
      "http://carob.rsmas.miami.edu/data/cameras/hourly_images/camera1/2020/july/1/camera1-2020.07.1-120000.jpg\n",
      "http://carob.rsmas.miami.edu/data/cameras/hourly_images/camera1/2020/july/2/camera1-2020.07.2-120000.jpg\n",
      "http://carob.rsmas.miami.edu/data/cameras/hourly_images/camera1/2020/july/3/camera1-2020.07.3-120000.jpg\n",
      "http://carob.rsmas.miami.edu/data/cameras/hourly_images/camera1/2020/july/4/camera1-2020.07.4-120000.jpg\n",
      "http://carob.rsmas.miami.edu/data/cameras/hourly_images/camera1/2020/july/5/camera1-2020.07.5-120000.jpg\n",
      "http://carob.rsmas.miami.edu/data/cameras/hourly_images/camera1/2020/july/6/camera1-2020.07.6-120000.jpg\n",
      "http://carob.rsmas.miami.edu/data/cameras/hourly_images/camera1/2020/july/7/camera1-2020.07.7-120000.jpg\n",
      "http://carob.rsmas.miami.edu/data/cameras/hourly_images/camera1/2020/july/8/camera1-2020.07.8-120000.jpg\n",
      "http://carob.rsmas.miami.edu/data/cameras/hourly_images/camera1/2020/july/9/camera1-2020.07.9-120000.jpg\n",
      "http://carob.rsmas.miami.edu/data/cameras/hourly_images/camera1/2020/july/10/camera1-2020.07.10-120000.jpg\n",
      "http://carob.rsmas.miami.edu/data/cameras/hourly_images/camera1/2020/july/11/camera1-2020.07.11-120000.jpg\n",
      "http://carob.rsmas.miami.edu/data/cameras/hourly_images/camera1/2020/july/12/camera1-2020.07.12-120000.jpg\n",
      "http://carob.rsmas.miami.edu/data/cameras/hourly_images/camera1/2020/july/13/camera1-2020.07.13-120000.jpg\n",
      "http://carob.rsmas.miami.edu/data/cameras/hourly_images/camera1/2020/july/14/camera1-2020.07.14-120000.jpg\n",
      "http://carob.rsmas.miami.edu/data/cameras/hourly_images/camera1/2020/july/15/camera1-2020.07.15-120000.jpg\n",
      "http://carob.rsmas.miami.edu/data/cameras/hourly_images/camera1/2020/july/16/camera1-2020.07.16-120000.jpg\n",
      "http://carob.rsmas.miami.edu/data/cameras/hourly_images/camera1/2020/july/17/camera1-2020.07.17-120000.jpg\n",
      "http://carob.rsmas.miami.edu/data/cameras/hourly_images/camera1/2020/july/18/camera1-2020.07.18-120000.jpg\n",
      "http://carob.rsmas.miami.edu/data/cameras/hourly_images/camera1/2020/july/19/camera1-2020.07.19-120000.jpg\n",
      "http://carob.rsmas.miami.edu/data/cameras/hourly_images/camera1/2020/july/20/camera1-2020.07.20-120000.jpg\n",
      "http://carob.rsmas.miami.edu/data/cameras/hourly_images/camera1/2020/july/21/camera1-2020.07.21-120000.jpg\n",
      "http://carob.rsmas.miami.edu/data/cameras/hourly_images/camera1/2020/july/22/camera1-2020.07.22-120000.jpg\n",
      "http://carob.rsmas.miami.edu/data/cameras/hourly_images/camera1/2020/july/23/camera1-2020.07.23-120000.jpg\n",
      "http://carob.rsmas.miami.edu/data/cameras/hourly_images/camera1/2020/july/24/camera1-2020.07.24-120000.jpg\n",
      "http://carob.rsmas.miami.edu/data/cameras/hourly_images/camera1/2020/july/25/camera1-2020.07.25-120000.jpg\n",
      "http://carob.rsmas.miami.edu/data/cameras/hourly_images/camera1/2020/july/26/camera1-2020.07.26-120000.jpg\n",
      "http://carob.rsmas.miami.edu/data/cameras/hourly_images/camera1/2020/july/27/camera1-2020.07.27-120000.jpg\n",
      "http://carob.rsmas.miami.edu/data/cameras/hourly_images/camera1/2020/july/28/camera1-2020.07.28-120000.jpg\n",
      "http://carob.rsmas.miami.edu/data/cameras/hourly_images/camera1/2020/july/29/camera1-2020.07.29-120000.jpg\n",
      "http://carob.rsmas.miami.edu/data/cameras/hourly_images/camera1/2020/july/30/camera1-2020.07.30-120000.jpg\n"
     ]
    }
   ],
   "source": [
    "\n",
    "for i in range(31):\n",
    "    print(stub+str(i)+stub2+str(i)+suffix) "
   ]
  },
  {
   "cell_type": "code",
   "execution_count": null,
   "metadata": {},
   "outputs": [],
   "source": []
  }
 ],
 "metadata": {
  "kernelspec": {
   "display_name": "Python 3",
   "language": "python",
   "name": "python3"
  },
  "language_info": {
   "codemirror_mode": {
    "name": "ipython",
    "version": 3
   },
   "file_extension": ".py",
   "mimetype": "text/x-python",
   "name": "python",
   "nbconvert_exporter": "python",
   "pygments_lexer": "ipython3",
   "version": "3.7.7"
  }
 },
 "nbformat": 4,
 "nbformat_minor": 4
}
