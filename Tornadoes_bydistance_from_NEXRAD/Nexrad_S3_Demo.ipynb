{
 "cells": [
  {
   "cell_type": "markdown",
   "metadata": {
    "cell_marker": "\"\"\""
   },
   "source": [
    "Plotting AWS-hosted NEXRAD Level 2 Data\n",
    "=======================================================\n",
    "\n",
    "Access NEXRAD radar data via Amazon Web Services and plot with MetPy\n",
    "\n",
    "Accessing data remotely is a powerful tool for big data, such as NEXRAD radar data.\n",
    "By accessing it in the cloud, you can save time and space from downloading the data locally."
   ]
  },
  {
   "cell_type": "code",
   "execution_count": null,
   "metadata": {},
   "outputs": [],
   "source": [
    "import boto3\n",
    "import botocore\n",
    "from botocore.client import Config\n",
    "import matplotlib.pyplot as plt\n",
    "from metpy.io import Level2File\n",
    "from metpy.plots import add_timestamp, ctables\n",
    "from mpl_toolkits.axes_grid1 import make_axes_locatable\n",
    "import numpy as np"
   ]
  },
  {
   "cell_type": "markdown",
   "metadata": {
    "cell_marker": "######################################################################"
   },
   "source": [
    "Access the data in the AWS cloud. In this example, we're plotting data\n",
    "from the Evansville, IN radar, which had convection within its\n",
    "domain on 06/26/2019.\n"
   ]
  },
  {
   "cell_type": "code",
   "execution_count": null,
   "metadata": {},
   "outputs": [],
   "source": [
    "s3 = boto3.resource('s3', config=Config(signature_version=botocore.UNSIGNED,\n",
    "                                        user_agent_extra='Resource'))\n",
    "bucket = s3.Bucket('noaa-nexrad-level2')\n",
    "for obj in bucket.objects.filter(Prefix='2019/06/26/KVWX/KVWX20190626_221105_V06'):\n",
    "    print(obj.key)\n",
    "\n",
    "    # Use MetPy to read the file\n",
    "    f = Level2File(obj.get()['Body'])"
   ]
  },
  {
   "cell_type": "markdown",
   "metadata": {
    "cell_marker": "######################################################################"
   },
   "source": [
    "Subset Data\n",
    "-----------\n",
    "\n",
    "With the file comes a lot of data, including multiple elevations and products.\n",
    "In the next block, we'll pull out the specific data we want to plot.\n"
   ]
  },
  {
   "cell_type": "code",
   "execution_count": null,
   "metadata": {},
   "outputs": [],
   "source": [
    "sweep = 0\n",
    "# First item in ray is header, which has azimuth angle\n",
    "az = np.array([ray[0].az_angle for ray in f.sweeps[sweep]])\n",
    "\n",
    "ref_hdr = f.sweeps[sweep][0][4][b'REF'][0]\n",
    "ref_range = np.arange(ref_hdr.num_gates) * ref_hdr.gate_width + ref_hdr.first_gate\n",
    "ref = np.array([ray[4][b'REF'][1] for ray in f.sweeps[sweep]])\n",
    "\n",
    "rho_hdr = f.sweeps[sweep][0][4][b'RHO'][0]\n",
    "rho_range = (np.arange(rho_hdr.num_gates + 1) - 0.5) * rho_hdr.gate_width + rho_hdr.first_gate\n",
    "rho = np.array([ray[4][b'RHO'][1] for ray in f.sweeps[sweep]])\n",
    "\n",
    "phi_hdr = f.sweeps[sweep][0][4][b'PHI'][0]\n",
    "phi_range = (np.arange(phi_hdr.num_gates + 1) - 0.5) * phi_hdr.gate_width + phi_hdr.first_gate\n",
    "phi = np.array([ray[4][b'PHI'][1] for ray in f.sweeps[sweep]])\n",
    "\n",
    "zdr_hdr = f.sweeps[sweep][0][4][b'ZDR'][0]\n",
    "zdr_range = (np.arange(zdr_hdr.num_gates + 1) - 0.5) * zdr_hdr.gate_width + zdr_hdr.first_gate\n",
    "zdr = np.array([ray[4][b'ZDR'][1] for ray in f.sweeps[sweep]])"
   ]
  },
  {
   "cell_type": "markdown",
   "metadata": {
    "cell_marker": "######################################################################"
   },
   "source": [
    "Plot the data\n",
    "-------------\n",
    "\n",
    "Use MetPy and Matplotlib to plot the data\n"
   ]
  },
  {
   "cell_type": "code",
   "execution_count": null,
   "metadata": {},
   "outputs": [],
   "source": [
    "# Get the NWS reflectivity colortable from MetPy\n",
    "ref_norm, ref_cmap = ctables.registry.get_with_steps('NWSReflectivity', 5, 5)\n",
    "\n",
    "# Plot the data!\n",
    "fig, axes = plt.subplots(2, 2, figsize=(15, 15))\n",
    "for var_data, var_range, colors, lbl, ax in zip((ref, rho, zdr, phi),\n",
    "                                                (ref_range, rho_range, zdr_range, phi_range),\n",
    "                                                (ref_cmap, 'plasma', 'viridis', 'viridis'),\n",
    "                                                ('REF (dBZ)', 'RHO', 'ZDR (dBZ)', 'PHI'),\n",
    "                                                axes.flatten()):\n",
    "    # Turn into an array, then mask\n",
    "    data = np.ma.array(var_data)\n",
    "    data[np.isnan(data)] = np.ma.masked\n",
    "\n",
    "    # Convert az,range to x,y\n",
    "    xlocs = var_range * np.sin(np.deg2rad(az[:, np.newaxis]))\n",
    "    ylocs = var_range * np.cos(np.deg2rad(az[:, np.newaxis]))\n",
    "\n",
    "    # Define norm for reflectivity\n",
    "    norm = ref_norm if colors == ref_cmap else None\n",
    "\n",
    "    # Plot the data\n",
    "    a = ax.pcolormesh(xlocs, ylocs, data, cmap=colors, norm=norm)\n",
    "\n",
    "    divider = make_axes_locatable(ax)\n",
    "    cax = divider.append_axes('right', size='5%', pad=0.05)\n",
    "    fig.colorbar(a, cax=cax, orientation='vertical', label=lbl)\n",
    "\n",
    "    ax.set_aspect('equal', 'datalim')\n",
    "    ax.set_xlim(-100, 100)\n",
    "    ax.set_ylim(-100, 100)\n",
    "    add_timestamp(ax, f.dt, y=0.02, high_contrast=False)\n",
    "plt.suptitle('KVWX Level 2 Data', fontsize=20)\n",
    "plt.tight_layout()"
   ]
  }
 ],
 "metadata": {
  "jupytext": {
   "cell_metadata_filter": "-all",
   "main_language": "python",
   "notebook_metadata_filter": "-all"
  },
  "kernelspec": {
   "display_name": "Python 3 (ipykernel)",
   "language": "python",
   "name": "python3"
  },
  "language_info": {
   "codemirror_mode": {
    "name": "ipython",
    "version": 3
   },
   "file_extension": ".py",
   "mimetype": "text/x-python",
   "name": "python",
   "nbconvert_exporter": "python",
   "pygments_lexer": "ipython3",
   "version": "3.10.2"
  }
 },
 "nbformat": 4,
 "nbformat_minor": 4
}
