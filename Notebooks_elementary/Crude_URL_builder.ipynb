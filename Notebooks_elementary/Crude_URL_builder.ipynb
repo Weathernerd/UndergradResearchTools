{
 "cells": [
  {
   "cell_type": "code",
   "execution_count": 13,
   "metadata": {},
   "outputs": [],
   "source": [
    "# Suppose we have a URL that works, and want to build dimilar ones with a different date. Here's a crude toy for that\n",
    "\n",
    "# http://carob.rsmas.miami.edu/data/cameras/hourly_images/camera1/2020/july/20/camera1-2020.07.20-120000.jpg\n"
   ]
  },
  {
   "cell_type": "code",
   "execution_count": 11,
   "metadata": {},
   "outputs": [],
   "source": [
    "stub = 'http://carob.rsmas.miami.edu/data/cameras/hourly_images/camera1/2020/july/'\n",
    "\n",
    "stub2 = '/camera1-2020.07.'\n",
    "\n",
    "suffix = '-120000.jpg'\n",
    "\n",
    "\n",
    "for i in range(31):\n",
    "    print(stub+str(i)+stub2+str(i)+suffix) "
   ]
  },
  {
   "cell_type": "code",
   "execution_count": null,
   "metadata": {},
   "outputs": [],
   "source": [
    "https://worldview.earthdata.nasa.gov/?v=-92.90353096107152,19.44249774317258,-50.03572130651726,43.27097926113959&t=2018-03-29-T19%3A55%3A05Z"
   ]
  },
  {
   "cell_type": "code",
   "execution_count": null,
   "metadata": {},
   "outputs": [],
   "source": []
  }
 ],
 "metadata": {
  "kernelspec": {
   "display_name": "Python 3 (ipykernel)",
   "language": "python",
   "name": "python3"
  },
  "language_info": {
   "codemirror_mode": {
    "name": "ipython",
    "version": 3
   },
   "file_extension": ".py",
   "mimetype": "text/x-python",
   "name": "python",
   "nbconvert_exporter": "python",
   "pygments_lexer": "ipython3",
   "version": "3.8.12"
  },
  "toc-autonumbering": true
 },
 "nbformat": 4,
 "nbformat_minor": 4
}
